{
  "nbformat": 4,
  "nbformat_minor": 0,
  "metadata": {
    "colab": {
      "name": "neuron.ipynb",
      "version": "0.3.2",
      "provenance": [],
      "include_colab_link": true
    },
    "kernelspec": {
      "name": "python3",
      "display_name": "Python 3"
    }
  },
  "cells": [
    {
      "cell_type": "markdown",
      "metadata": {
        "id": "view-in-github",
        "colab_type": "text"
      },
      "source": [
        "<a href=\"https://colab.research.google.com/github/miguel-kjh/Ordered-neuron/blob/master/neuron.ipynb\" target=\"_parent\"><img src=\"https://colab.research.google.com/assets/colab-badge.svg\" alt=\"Open In Colab\"/></a>"
      ]
    },
    {
      "cell_type": "code",
      "metadata": {
        "id": "KELe9ckrbVRJ",
        "colab_type": "code",
        "colab": {}
      },
      "source": [
        "import numpy as np\n",
        "import matplotlib.pyplot as plt\n",
        "from random import uniform"
      ],
      "execution_count": 0,
      "outputs": []
    },
    {
      "cell_type": "code",
      "metadata": {
        "id": "1QOcbzOPbdhs",
        "colab_type": "code",
        "colab": {}
      },
      "source": [
        "x_data = [[1, 2],[3, 4],[10, 0],[8, 1],[5,5],[1,8],[2,1],[9,8],[10,9],[9,10],[5,4.9],[5,4.99]]\n",
        "\n",
        "y_data = [1, 1, 0, 0,0,1,0,0,0,1,0,0]"
      ],
      "execution_count": 0,
      "outputs": []
    },
    {
      "cell_type": "code",
      "metadata": {
        "id": "z6QrmxwJbhlF",
        "colab_type": "code",
        "colab": {}
      },
      "source": [
        "def sigmoid(x):\n",
        "    return 1.0/(1.0 + np.exp(-x))\n",
        "\n",
        "def sigmoid_derivate(o):\n",
        "    return o * (1.0 - o)\n",
        "\n",
        "def relu(x):\n",
        "    return max(0,x) \n",
        "\n",
        "def relu_derivate(o):\n",
        "    return sigmoid(o)"
      ],
      "execution_count": 0,
      "outputs": []
    },
    {
      "cell_type": "code",
      "metadata": {
        "id": "UccR5O7AbmTo",
        "colab_type": "code",
        "colab": {}
      },
      "source": [
        "def train(x_data, y_data, coefi,fx,dfx):\n",
        "    w0, w1, w2 = np.random.rand(3)\n",
        "    lr = coefi\n",
        "    epochs = 100000\n",
        "    print (\"Training...\")\n",
        "\n",
        "    for _ in range(epochs):\n",
        "        w0_d = []\n",
        "        w1_d = []\n",
        "        w2_d = []\n",
        "        \n",
        "        for data, label in zip(x_data, y_data):\n",
        "\n",
        "            o = fx(w0*1.0 + w1*data[0] + w2*data[1])\n",
        "            error = 2.*(o - label) * dfx(o)\n",
        "\n",
        "            w0_d.append(error * 1.0)\n",
        "            w1_d.append(error * data[0])\n",
        "            w2_d.append(error * data[1])\n",
        "            \n",
        "        w0 = w0 - np.sum(w0_d) * lr\n",
        "        w1 = w1 - np.sum(w1_d) * lr\n",
        "        w2 = w2 - np.sum(w2_d) * lr\n",
        "    pesos.append(w0)\n",
        "    pesos.append(w1)\n",
        "    pesos.append(w2)"
      ],
      "execution_count": 0,
      "outputs": []
    },
    {
      "cell_type": "code",
      "metadata": {
        "id": "q_zJSskWbrjI",
        "colab_type": "code",
        "colab": {}
      },
      "source": [
        "def neurona(data, funcion):\n",
        "    if(funcion == \"sigmoid\"):\n",
        "        return sigmoid(pesos[0]*1.0 + pesos[1]*data[0] + pesos[2]*data[1])\n",
        "    if(funcion == \"relu\"):\n",
        "        return relu(pesos[0]*1.0 + pesos[1]*data[0] + pesos[2]*data[1])\n",
        "    return None"
      ],
      "execution_count": 0,
      "outputs": []
    },
    {
      "cell_type": "code",
      "metadata": {
        "id": "fVJv9FwQbvCA",
        "colab_type": "code",
        "colab": {}
      },
      "source": [
        "def test(x_data,y_data,func):\n",
        "    for data, label in zip(x_data, y_data):\n",
        "        print (data, \"->\", label)\n",
        "        o = neurona(data,func)\n",
        "        print (o)\n",
        "        print (\"-----------------------\")"
      ],
      "execution_count": 0,
      "outputs": []
    },
    {
      "cell_type": "code",
      "metadata": {
        "id": "DMg3X4v6bzBc",
        "colab_type": "code",
        "colab": {
          "base_uri": "https://localhost:8080/",
          "height": 660
        },
        "outputId": "17a0e6e3-5ca1-4aeb-8b5c-1de1e656000e"
      },
      "source": [
        "pesos = []\n",
        "train(x_data, y_data,0.5,sigmoid,sigmoid_derivate)\n",
        "test(x_data, y_data, \"sigmoid\")"
      ],
      "execution_count": 8,
      "outputs": [
        {
          "output_type": "stream",
          "text": [
            "Training...\n",
            "[1, 2] -> 1\n",
            "0.999932884436461\n",
            "-----------------------\n",
            "[3, 4] -> 1\n",
            "0.9998175459527336\n",
            "-----------------------\n",
            "[10, 0] -> 0\n",
            "1.4037727809349195e-61\n",
            "-----------------------\n",
            "[8, 1] -> 0\n",
            "6.065923824653392e-44\n",
            "-----------------------\n",
            "[5, 5] -> 0\n",
            "0.0037070974753904535\n",
            "-----------------------\n",
            "[1, 8] -> 1\n",
            "1.0\n",
            "-----------------------\n",
            "[2, 1] -> 0\n",
            "3.079481264715983e-08\n",
            "-----------------------\n",
            "[9, 8] -> 0\n",
            "9.292794385133806e-10\n",
            "-----------------------\n",
            "[10, 9] -> 0\n",
            "5.63580748284734e-10\n",
            "-----------------------\n",
            "[9, 10] -> 1\n",
            "0.9963458704098291\n",
            "-----------------------\n",
            "[5, 4.9] -> 0\n",
            "0.0009927539297796618\n",
            "-----------------------\n",
            "[5, 4.99] -> 0\n",
            "0.003250092891224216\n",
            "-----------------------\n"
          ],
          "name": "stdout"
        }
      ]
    },
    {
      "cell_type": "code",
      "metadata": {
        "id": "L2tJCfm-b8ms",
        "colab_type": "code",
        "colab": {
          "base_uri": "https://localhost:8080/",
          "height": 34
        },
        "outputId": "8cb49804-bb49-4c18-9b6a-31b1dd184291"
      },
      "source": [
        "if round(neurona([8,7.9999], \"sigmoid\")) >= 1:\n",
        "        print(\"Sort\")\n",
        "else:\n",
        "        print(\"Not sort\")"
      ],
      "execution_count": 10,
      "outputs": [
        {
          "output_type": "stream",
          "text": [
            "Not sort\n"
          ],
          "name": "stdout"
        }
      ]
    },
    {
      "cell_type": "code",
      "metadata": {
        "id": "hYUEsSmnb-sr",
        "colab_type": "code",
        "colab": {
          "base_uri": "https://localhost:8080/",
          "height": 562
        },
        "outputId": "e21be468-0c59-4f36-d42b-7bb40a8fb896"
      },
      "source": [
        "for _ in range(1000):\n",
        "    x = uniform(0.0001, 9.9999)\n",
        "    y = uniform(0.0001, 9.9999)\n",
        "    o = neurona([x,y],\"sigmoid\")\n",
        "    #print(\"Para i = \" + str(i) + \",\" + str(i) + \" => \" + str(o) + \"\\n\")\n",
        "    if round(o) >= 1:\n",
        "        plt.plot(x, y, 'o', color='blue')\n",
        "    else:\n",
        "        plt.plot(x, y, 'o', color='red')\n",
        "plt.title(\"Sigmoide\")\n",
        "plt.show()\n",
        "for _ in range(1000):\n",
        "    x = uniform(0.0001, 9.9999)\n",
        "    y = uniform(0.0001, 9.9999)\n",
        "    o = neurona([x,y],\"relu\")\n",
        "    #print(\"Para i = \" + str(i) + \",\" + str(i) + \" => \" + str(o) + \"\\n\")\n",
        "    if round(o) >= 1:\n",
        "        plt.plot(x, y, 'o', color='blue')\n",
        "    else:\n",
        "        plt.plot(x, y, 'o', color='red')\n",
        "plt.title(\"Relu\")"
      ],
      "execution_count": 11,
      "outputs": [
        {
          "output_type": "display_data",
          "data": {
            "image/png": "[encoded data removed]",
            "text/plain": [
              "<Figure size 432x288 with 1 Axes>"
            ]
          },
          "metadata": {
            "tags": []
          }
        },
        {
          "output_type": "execute_result",
          "data": {
            "text/plain": [
              "Text(0.5, 1.0, 'Relu')"
            ]
          },
          "metadata": {
            "tags": []
          },
          "execution_count": 11
        },
        {
          "output_type": "display_data",
          "data": {
            "image/png": "[encoded data removed]",
            "text/plain": [
              "<Figure size 432x288 with 1 Axes>"
            ]
          },
          "metadata": {
            "tags": []
          }
        }
      ]
    }
  ]
}